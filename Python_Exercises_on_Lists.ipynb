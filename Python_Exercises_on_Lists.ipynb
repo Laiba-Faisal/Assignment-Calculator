{
  "nbformat": 4,
  "nbformat_minor": 0,
  "metadata": {
    "colab": {
      "provenance": []
    },
    "kernelspec": {
      "name": "python3",
      "display_name": "Python 3"
    },
    "language_info": {
      "name": "python"
    }
  },
  "cells": [
    {
      "cell_type": "markdown",
      "source": [
        "Exercise 3-1: Names\n",
        "● Task: Store the names of a few of your friends in a list called names. Print each person’s\n",
        "name by accessing each element in the list, one at a time."
      ],
      "metadata": {
        "id": "ZcICUZVfRcfr"
      }
    },
    {
      "cell_type": "code",
      "execution_count": 2,
      "metadata": {
        "id": "j-RLhmnWZojH",
        "colab": {
          "base_uri": "https://localhost:8080/"
        },
        "outputId": "0be8d819-3a64-4a93-c8e7-5e1bd61740a6"
      },
      "outputs": [
        {
          "output_type": "stream",
          "name": "stdout",
          "text": [
            "Aliha Armeen Ishmal Seemal\n"
          ]
        }
      ],
      "source": [
        "names = [\"Aliha\", \"Armeen\", \"Ishmal\", \"Seemal\"]\n",
        "print(names[0], names[1], names[2], names[3])\n"
      ]
    },
    {
      "cell_type": "markdown",
      "source": [
        "Exercise 3-2: Greetings\n",
        "● Task: Start with the list you used in Exercise 3-1. Instead of just printing each person’s\n",
        "name, print a message to them. The text of each message should be the same, but each\n",
        "message should be personalized with the person’s name."
      ],
      "metadata": {
        "id": "dRr4XDdZRW5f"
      }
    },
    {
      "cell_type": "code",
      "source": [
        "greetings = \"Salam, \"\n",
        "for name in names:\n",
        "  print(f\"{greetings + name}! \")"
      ],
      "metadata": {
        "colab": {
          "base_uri": "https://localhost:8080/"
        },
        "id": "-TGcgy_-SWQU",
        "outputId": "9d484cc9-8f36-45e1-c714-cda55c82c72e"
      },
      "execution_count": 3,
      "outputs": [
        {
          "output_type": "stream",
          "name": "stdout",
          "text": [
            "Salam, Aliha! \n",
            "Salam, Armeen! \n",
            "Salam, Ishmal! \n",
            "Salam, Seemal! \n"
          ]
        }
      ]
    },
    {
      "cell_type": "markdown",
      "source": [
        "Exercise 3-3: Your Own List\n",
        "● Task: Think of your favorite mode of transportation, such as a motorcycle or a car, and\n",
        "make a list that stores several examples. Use your list to print a series of statements\n",
        "about these items, such as “I would like to own a Honda motorcycle.”\n",
        "---\n",
        "\n"
      ],
      "metadata": {
        "id": "ppy92r6XRYfy"
      }
    },
    {
      "cell_type": "code",
      "source": [
        "models = [\"Ducati\", \"Yamaha\", \"BMW\", \"Ferrari\", \"Porsche\"]\n",
        "for vehicle in models:\n",
        "  print(f\"I would like to own a {vehicle}.\")"
      ],
      "metadata": {
        "colab": {
          "base_uri": "https://localhost:8080/"
        },
        "id": "cE0J9wR_THHm",
        "outputId": "666ab733-dd10-47b6-93cf-f7c14a8e378f"
      },
      "execution_count": 4,
      "outputs": [
        {
          "output_type": "stream",
          "name": "stdout",
          "text": [
            "I would like to own a Ducati.\n",
            "I would like to own a Yamaha.\n",
            "I would like to own a BMW.\n",
            "I would like to own a Ferrari.\n",
            "I would like to own a Porsche.\n"
          ]
        }
      ]
    },
    {
      "cell_type": "markdown",
      "source": [
        "Exercise 3-4: Guest List\n",
        "● Task: If you could invite anyone, living or deceased, to dinner, who would you invite?\n",
        "Make a list that includes at least three people you’d like to invite to dinner. Then use your\n",
        "list to print a message to each person, inviting them to dinner."
      ],
      "metadata": {
        "id": "2nhqm8aSVoxs"
      }
    },
    {
      "cell_type": "code",
      "source": [
        "guest_list = [\"Aliha\", \"Armeen\", \"Ishmal\", \"Seemal\", \"Afaf\", \"Amna\"]\n",
        "for guest in guest_list:\n",
        "  print(f\"Dear {guest}, I hope you are doing well, I have an event on my guest house. I'd like to invite you on this event.Let me know if your free!\")"
      ],
      "metadata": {
        "colab": {
          "base_uri": "https://localhost:8080/"
        },
        "id": "WRJIADaVUnKq",
        "outputId": "8281c6d4-fd58-4685-9c9d-f2a3849e4c91"
      },
      "execution_count": 5,
      "outputs": [
        {
          "output_type": "stream",
          "name": "stdout",
          "text": [
            "Dear Aliha, I hope you are doing well, I have an event on my guest house. I'd like to invite you on this event.Let me know if your free!\n",
            "Dear Armeen, I hope you are doing well, I have an event on my guest house. I'd like to invite you on this event.Let me know if your free!\n",
            "Dear Ishmal, I hope you are doing well, I have an event on my guest house. I'd like to invite you on this event.Let me know if your free!\n",
            "Dear Seemal, I hope you are doing well, I have an event on my guest house. I'd like to invite you on this event.Let me know if your free!\n",
            "Dear Afaf, I hope you are doing well, I have an event on my guest house. I'd like to invite you on this event.Let me know if your free!\n",
            "Dear Amna, I hope you are doing well, I have an event on my guest house. I'd like to invite you on this event.Let me know if your free!\n"
          ]
        }
      ]
    },
    {
      "cell_type": "markdown",
      "source": [
        "● Task: Start with your program from Exercise 3-4. Add a print() call at the end of your\n",
        "program, stating the name of the guest who can’t make it. Modify your list, replacing the\n",
        "\n",
        "name of the guest who can’t make it with the name of the new person you are inviting.\n",
        "Print a second set of invitation messages, one for each person who is still in your list."
      ],
      "metadata": {
        "id": "z9vg_EP9WIAi"
      }
    },
    {
      "cell_type": "code",
      "source": [
        "guest_list = [\"Aliha\", \"Armeen\", \"Ishmal\", \"Seemal\", \"Afaf\", \"Amna\"]\n",
        "guest_list.append(\"Mubashra\")\n",
        "guest_list.remove(\"Seemal\")\n",
        "\n",
        "for guest in guest_list:\n",
        "  print(f\"Dear {guest}, I hope you are doing well, I have an event on my guest house. I'd like to invite you on this event.Let me know if your free!\")"
      ],
      "metadata": {
        "colab": {
          "base_uri": "https://localhost:8080/"
        },
        "id": "Me6LpsRaVr8S",
        "outputId": "edacdb9b-2b3a-4c5b-c260-ba834ad3f3b6"
      },
      "execution_count": 6,
      "outputs": [
        {
          "output_type": "stream",
          "name": "stdout",
          "text": [
            "Dear Aliha, I hope you are doing well, I have an event on my guest house. I'd like to invite you on this event.Let me know if your free!\n",
            "Dear Armeen, I hope you are doing well, I have an event on my guest house. I'd like to invite you on this event.Let me know if your free!\n",
            "Dear Ishmal, I hope you are doing well, I have an event on my guest house. I'd like to invite you on this event.Let me know if your free!\n",
            "Dear Afaf, I hope you are doing well, I have an event on my guest house. I'd like to invite you on this event.Let me know if your free!\n",
            "Dear Amna, I hope you are doing well, I have an event on my guest house. I'd like to invite you on this event.Let me know if your free!\n",
            "Dear Mubashra, I hope you are doing well, I have an event on my guest house. I'd like to invite you on this event.Let me know if your free!\n"
          ]
        }
      ]
    },
    {
      "cell_type": "markdown",
      "source": [
        "Exercise 3-6: More Guests\n",
        "● Task: Start with your program from Exercise 3-4 or 3-5. Add a print() call to the end\n",
        "of your program, informing people that you found a bigger table. Use insert() to add\n",
        "one new guest to the beginning of your list. Use insert() to add one new guest to the\n",
        "middle of your list. Use append() to add one new guest to the end of your list. Print a\n",
        "new set of invitation messages, one for each person in your list."
      ],
      "metadata": {
        "id": "gCHk0hDAXqmO"
      }
    },
    {
      "cell_type": "code",
      "source": [
        "guest_list.insert(0,\"Afaf\")\n",
        "guest_list.insert(3, \"Abu Bakar\")\n",
        "guest_list.append(\"Abdul Rehman\")\n",
        "for new_guest in guest_list:\n",
        "  print(f\"Hey {new_guest}, I want to invite all friends so now the event will held at farm house.\")"
      ],
      "metadata": {
        "colab": {
          "base_uri": "https://localhost:8080/"
        },
        "id": "rsr9nvCyWasN",
        "outputId": "cb6ee419-6520-4ca7-c4b3-1a25f74f1a5d"
      },
      "execution_count": 7,
      "outputs": [
        {
          "output_type": "stream",
          "name": "stdout",
          "text": [
            "Hey Afaf, I want to invite all friends so now the event will held at farm house.\n",
            "Hey Aliha, I want to invite all friends so now the event will held at farm house.\n",
            "Hey Armeen, I want to invite all friends so now the event will held at farm house.\n",
            "Hey Abu Bakar, I want to invite all friends so now the event will held at farm house.\n",
            "Hey Ishmal, I want to invite all friends so now the event will held at farm house.\n",
            "Hey Afaf, I want to invite all friends so now the event will held at farm house.\n",
            "Hey Amna, I want to invite all friends so now the event will held at farm house.\n",
            "Hey Mubashra, I want to invite all friends so now the event will held at farm house.\n",
            "Hey Abdul Rehman, I want to invite all friends so now the event will held at farm house.\n"
          ]
        }
      ]
    },
    {
      "cell_type": "markdown",
      "source": [],
      "metadata": {
        "id": "ma_7z0iGU0U_"
      }
    },
    {
      "cell_type": "code",
      "source": [
        "guest_list"
      ],
      "metadata": {
        "colab": {
          "base_uri": "https://localhost:8080/"
        },
        "id": "yysZ8KFUIPLN",
        "outputId": "bd24cc9d-2727-44c7-a605-5c70b0551772"
      },
      "execution_count": 8,
      "outputs": [
        {
          "output_type": "execute_result",
          "data": {
            "text/plain": [
              "['Afaf',\n",
              " 'Aliha',\n",
              " 'Armeen',\n",
              " 'Abu Bakar',\n",
              " 'Ishmal',\n",
              " 'Afaf',\n",
              " 'Amna',\n",
              " 'Mubashra',\n",
              " 'Abdul Rehman']"
            ]
          },
          "metadata": {},
          "execution_count": 8
        }
      ]
    },
    {
      "cell_type": "markdown",
      "source": [
        "Exercise 3-7: Shrinking Guest List\n",
        "● Task: Start with your program from Exercise 3-6. Add a new line that prints a message\n",
        "saying that you can invite only two people for dinner. Use pop() to remove guests from\n",
        "your list one at a time until only two names remain in your list. Each time you pop a\n",
        "name from your list, print a message to that person letting them know you’re sorry you\n",
        "can’t invite them to dinner. Print a message to each of the two people still on your list,\n",
        "letting them know they’re still invited. Use del to remove the last two names from your\n",
        "list, so you have an empty list. Print your list to make sure you actually have an empty\n",
        "list at the end of your program."
      ],
      "metadata": {
        "id": "YbAaLYJ4VFWR"
      }
    },
    {
      "cell_type": "code",
      "source": [
        "print(\"Sorry I can invite only 2 people.\")\n",
        "removed_guest = guest_list.pop()\n",
        "print(f\"Sorry {removed_guest}, I can't invite you\")\n",
        "removed_guest = guest_list.pop()\n",
        "print(f\"Sorry {removed_guest}, I can't invite you\")\n",
        "removed_guest = guest_list.pop()\n",
        "print(f\"Sorry {removed_guest}, I can't invite you\")\n",
        "removed_guest = guest_list.pop()\n",
        "print(f\"Sorry {removed_guest}, I can't invite you\")\n",
        "removed_guest = guest_list.pop()\n",
        "print(f\"Sorry {removed_guest}, I can't invite you\")\n",
        "removed_guest = guest_list.pop()\n",
        "print(f\"Sorry {removed_guest}, I can't invite you\")\n",
        "removed_guest = guest_list.pop()\n",
        "print(f\"Sorry {removed_guest}, I can't invite you\")\n",
        "\n",
        "print(f\"Hey {guest_list[0]} you are invited on dinner\")\n",
        "print(f\"Hey {guest_list[1]} you are invited on dinner\")\n",
        "del guest_list[0]\n",
        "del guest_list[0]\n",
        "print(guest_list)"
      ],
      "metadata": {
        "colab": {
          "base_uri": "https://localhost:8080/"
        },
        "id": "VTFwBcnwXnWq",
        "outputId": "eadd0783-f86a-4bc8-9f7a-6894d9199642"
      },
      "execution_count": 9,
      "outputs": [
        {
          "output_type": "stream",
          "name": "stdout",
          "text": [
            "Sorry I can invite only 2 people.\n",
            "Sorry Abdul Rehman, I can't invite you\n",
            "Sorry Mubashra, I can't invite you\n",
            "Sorry Amna, I can't invite you\n",
            "Sorry Afaf, I can't invite you\n",
            "Sorry Ishmal, I can't invite you\n",
            "Sorry Abu Bakar, I can't invite you\n",
            "Sorry Armeen, I can't invite you\n",
            "Hey Afaf you are invited on dinner\n",
            "Hey Aliha you are invited on dinner\n",
            "[]\n"
          ]
        }
      ]
    },
    {
      "cell_type": "markdown",
      "source": [
        "Exercise 3-8: Seeing the World\n",
        "● Task: Think of at least five places in the world you’d like to visit. Store the locations in a\n",
        "list. Make sure the list is not in alphabetical order. Print your list in its original order. Don’t\n",
        "worry about printing the list neatly; just print it as a raw Python list. Use sorted() to\n",
        "print your list in alphabetical order without modifying the actual list. Show that your list is\n",
        "still in its original order by printing it. Use sorted() to print your list in\n",
        "reverse-alphabetical order without changing the order of the original list. Show that your\n",
        "list is still in its original order by printing it again. Use reverse() to change the order of\n",
        "your list. Print the list to show that its order has changed. Use reverse() to change the\n",
        "order of your list again. Print the list to show it’s back to its original order. Use sort() to\n",
        "change your list so it’s stored in alphabetical order. Print the list to show that its order\n",
        "\n",
        "has been changed. Use sort() to change your list so it’s stored in reverse-alphabetical\n",
        "order. Print the list to show that its order has changed."
      ],
      "metadata": {
        "id": "9uI89o2YVHZ8"
      }
    },
    {
      "cell_type": "markdown",
      "source": [
        "● Task: Think of things you could store in a list. For example, you could make a list of\n",
        "mountains, rivers, countries, cities, languages, or anything else you’d like. Write a\n",
        "program that creates a list containing these items and then uses each function\n",
        "introduced in this chapter at least once."
      ],
      "metadata": {
        "id": "ywILbgUqVOTp"
      }
    },
    {
      "cell_type": "code",
      "source": [
        "fav_places = [\"Saudi Arabia\", \"Turkey\", \"Misar\", \"Turkamanistan\", \"Iceland\"]\n",
        "print(fav_places)\n",
        "print(sorted(fav_places))\n",
        "print(sorted(fav_places, reverse = True))\n",
        "fav_places.reverse()\n",
        "print(fav_places)\n",
        "fav_places.reverse()\n",
        "print(fav_places)\n",
        "fav_places.sort()\n",
        "print(fav_places)\n",
        "fav_places.sort(reverse = True)\n",
        "print(fav_places)\n",
        "# print(reverse_list.reverse())"
      ],
      "metadata": {
        "id": "9PiPO8kHZJ-Y",
        "colab": {
          "base_uri": "https://localhost:8080/"
        },
        "outputId": "508e667f-02c9-469a-e43a-5f22c5e707e8"
      },
      "execution_count": 10,
      "outputs": [
        {
          "output_type": "stream",
          "name": "stdout",
          "text": [
            "['Saudi Arabia', 'Turkey', 'Misar', 'Turkamanistan', 'Iceland']\n",
            "['Iceland', 'Misar', 'Saudi Arabia', 'Turkamanistan', 'Turkey']\n",
            "['Turkey', 'Turkamanistan', 'Saudi Arabia', 'Misar', 'Iceland']\n",
            "['Iceland', 'Turkamanistan', 'Misar', 'Turkey', 'Saudi Arabia']\n",
            "['Saudi Arabia', 'Turkey', 'Misar', 'Turkamanistan', 'Iceland']\n",
            "['Iceland', 'Misar', 'Saudi Arabia', 'Turkamanistan', 'Turkey']\n",
            "['Turkey', 'Turkamanistan', 'Saudi Arabia', 'Misar', 'Iceland']\n"
          ]
        }
      ]
    },
    {
      "cell_type": "code",
      "source": [
        "random_list = [\"Python\", \"Mandarin\", \"China\", 545, 546, True, False]\n",
        "random_list.append(\"Pakistan\")\n",
        "print(random_list)\n",
        "random_list.extend([3, 5, 6])\n",
        "print(random_list)\n",
        "random_list.insert(3, \"Dragon Fruit\")\n",
        "print(random_list)\n",
        "random_list.remove(546)\n",
        "print(random_list)\n",
        "random_list.pop(3)\n",
        "print(random_list)\n",
        "random_list.clear()\n",
        "print(random_list)\n",
        "random_list = [\"Python\", \"Mandarin\", \"China\"]\n",
        "print(random_list.index(\"Python\"))\n",
        "print(random_list.count(True))\n",
        "random_list.sort()\n",
        "print(random_list)\n",
        "random_list.reverse()\n",
        "print(random_list)\n",
        "copy_list = random_list.copy()\n",
        "print(copy_list)\n"
      ],
      "metadata": {
        "colab": {
          "base_uri": "https://localhost:8080/"
        },
        "id": "3id7-Ij6Qq4w",
        "outputId": "9cbf396c-86d4-4e09-fbf5-22871f0cfee1"
      },
      "execution_count": 11,
      "outputs": [
        {
          "output_type": "stream",
          "name": "stdout",
          "text": [
            "['Python', 'Mandarin', 'China', 545, 546, True, False, 'Pakistan']\n",
            "['Python', 'Mandarin', 'China', 545, 546, True, False, 'Pakistan', 3, 5, 6]\n",
            "['Python', 'Mandarin', 'China', 'Dragon Fruit', 545, 546, True, False, 'Pakistan', 3, 5, 6]\n",
            "['Python', 'Mandarin', 'China', 'Dragon Fruit', 545, True, False, 'Pakistan', 3, 5, 6]\n",
            "['Python', 'Mandarin', 'China', 545, True, False, 'Pakistan', 3, 5, 6]\n",
            "[]\n",
            "0\n",
            "0\n",
            "['China', 'Mandarin', 'Python']\n",
            "['Python', 'Mandarin', 'China']\n",
            "['Python', 'Mandarin', 'China']\n"
          ]
        }
      ]
    },
    {
      "cell_type": "markdown",
      "source": [
        "Exercise 3-10: Intentional Error\n",
        "● Task: If you haven’t received an index error in one of your programs yet, try to make one\n",
        "happen. Change an index in one of your programs to produce an index error. Make sure\n",
        "you correct the error before closing the program."
      ],
      "metadata": {
        "id": "J5OTp7f8VQsm"
      }
    },
    {
      "cell_type": "code",
      "source": [
        "# fav_places[5]        it causes error\n",
        "fav_places[5-1]"
      ],
      "metadata": {
        "id": "jqwRQuUCKiRw",
        "colab": {
          "base_uri": "https://localhost:8080/",
          "height": 35
        },
        "outputId": "52f6d4f8-5f35-43c6-9c8f-f1ca6ec0221b"
      },
      "execution_count": 12,
      "outputs": [
        {
          "output_type": "execute_result",
          "data": {
            "text/plain": [
              "'Iceland'"
            ],
            "application/vnd.google.colaboratory.intrinsic+json": {
              "type": "string"
            }
          },
          "metadata": {},
          "execution_count": 12
        }
      ]
    },
    {
      "cell_type": "code",
      "source": [],
      "metadata": {
        "id": "Ds4_SnaYPih9"
      },
      "execution_count": 12,
      "outputs": []
    }
  ]
}